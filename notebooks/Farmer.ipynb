{
 "cells": [
  {
   "cell_type": "markdown",
   "id": "740d06db",
   "metadata": {},
   "source": [
    "# Farmer's Problem\n",
    "\n",
    "This example considers the famous farmer example from the book by Birge and Louveaux. \n",
    "\n",
    "## Problem description\n",
    "\n",
    "Consider a farmer, who has 500 acres of land, and raise grain, corn and sugar beet. In winter he wants to decide how much land he should devote for each crop in order to get maximal profit in the next autumn.\n",
    "\n",
    "The farmer need 200T of wheat and 240T of corn to feed his cattle. These amounts can be either raised by himself or bought from an external wholesaler. If more than this amount is produced, the exceeded part will be sold. Selling prices are 170\\\\$ and 150\\\\$ per ton of wheat and corn respectively. The purchase prices are 40\\% more than the selling price.\n",
    "\n",
    "Sugar beet sells at 36\\\\$ per ton. However, there is a quota on sugar beet production, any amount in excess of the quota can be sold only at 10$ per ton. The quota this year is 6000T.\n",
    "\n",
    "Based on past experience, the farmer knows that the mean yield on his land is roughly 2.5T, 3T and 10T per acre for wheat, corn and sugar beets, respectively. And the planting costs are 150\\\\$, 230\\\\$ and 260\\\\$ per acre respectively.\n",
    "\n",
    "## Data for farmer's problem\n",
    "\n",
    "### Deterministic data"
   ]
  },
  {
   "cell_type": "code",
   "execution_count": 1,
   "id": "360af065",
   "metadata": {},
   "outputs": [],
   "source": [
    "CROPS  = 1:3; # set of crops (wheat, corn and sugar beets, resp.)\n",
    "PURCH  = 1:2; # set of crops to purchase (wheat and corn, resp.)\n",
    "SELL   = 1:4; # set of crops to sell (wheat, corn, sugar beets under 6K and those over 6K)\n",
    "\n",
    "Cost     = [150 230 260];  # cost of planting crops\n",
    "Budget   = 500;            # budget capacity\n",
    "Purchase = [238 210];      # purchase price\n",
    "Sell     = [170 150 36 10] # selling price\n",
    "Minreq   = [200 240 0];    # minimum crop requirement"
   ]
  },
  {
   "cell_type": "markdown",
   "id": "07f5f6cc",
   "metadata": {},
   "source": [
    "### Stochastic data\n",
    "\n",
    "Assume that the yields for different crops are correlated and all depends on the weather. We consider three possible weather conditions: *good*, *average*, and *bad*."
   ]
  },
  {
   "cell_type": "code",
   "execution_count": 2,
   "id": "4af6e18a",
   "metadata": {},
   "outputs": [],
   "source": [
    "NS = 3;                        # number of scenarios\n",
    "probability = [1/3, 1/3, 1/3]; # probability\n",
    "\n",
    "Yield = [3.0 3.6 24.0;  # good weather condition\n",
    "         2.5 3.0 20.0;  # average weather condition\n",
    "         2.0 2.4 16.0]; # bad weather condition"
   ]
  },
  {
   "cell_type": "markdown",
   "id": "9ca345df",
   "metadata": {},
   "source": [
    "## Modeling\n",
    "\n",
    "We only need two packages to include."
   ]
  },
  {
   "cell_type": "code",
   "execution_count": 3,
   "id": "02ba965d",
   "metadata": {},
   "outputs": [],
   "source": [
    "using StructJuMP\n",
    "using DSPopt"
   ]
  },
  {
   "cell_type": "markdown",
   "id": "74595e1d",
   "metadata": {},
   "source": [
    "The actual optimization modeling is done in algebraic form."
   ]
  },
  {
   "cell_type": "code",
   "execution_count": 4,
   "id": "339912b3",
   "metadata": {},
   "outputs": [],
   "source": [
    "m = StructuredModel(num_scenarios = NS)\n",
    "\n",
    "@variable(m, 0 <= x[i=CROPS] <= 500, Int)\n",
    "@objective(m, Min, sum(Cost[i] * x[i] for i=CROPS))\n",
    "@constraint(m, const_budget, sum(x[i] for i=CROPS) <= Budget)\n",
    "\n",
    "for s in 1:NS\n",
    "    blk = StructuredModel(parent = m, id = s, prob = probability[s])\n",
    "\n",
    "    @variable(blk, y[j=PURCH] >= 0)\n",
    "    @variable(blk, w[k=SELL] >= 0)\n",
    "\n",
    "    @objective(blk, Min, sum(Purchase[j] * y[j] for j=PURCH) - sum(Sell[k] * w[k] for k=SELL))\n",
    "\n",
    "    @constraint(blk, const_minreq[j=PURCH], Yield[s,j] * x[j] + y[j] - w[j] >= Minreq[j])\n",
    "    @constraint(blk, const_minreq_beets, Yield[s,3] * x[3] - w[3] - w[4] >= Minreq[3])\n",
    "    @constraint(blk, const_aux, w[3] <= 6000)\n",
    "end"
   ]
  },
  {
   "cell_type": "markdown",
   "id": "677b2656",
   "metadata": {},
   "source": [
    "The modeling is done! Very simple!\n",
    "\n",
    "## Solutions\n",
    "\n",
    "We can use `DSP` to solve the model `m` by using different algorithms.\n",
    "\n",
    "Let's start with a deterministic equivalent form by using CPLEX (since we have compiled `DSP` with CPLEX).\n",
    "\n",
    "### Deterministic equivalent form"
   ]
  },
  {
   "cell_type": "code",
   "execution_count": 5,
   "id": "c878cde7",
   "metadata": {},
   "outputs": [
    {
     "name": "stdout",
     "output_type": "stream",
     "text": [
      "\n",
      "=================================================================================\n",
      "  DSP: Parallel decomposition methods for structured programming\n",
      "  - Version 2.0.0\n",
      "  - See https://github.com/Argonne-National-Laboratory/DSP\n",
      "\n",
      "  Under the terms of Contract No. DE-AC02-06CH11357 with UChicago Argonne, LLC,\n",
      "  the U.S. Government retains certain rights in this software.\n",
      "=================================================================================\n",
      "CPX0000  Default column names x1, x2 ... being created.\n",
      "CPX0000  Default row    names c1, c2 ... being created.\n",
      "CPX0000  Default objective names obj1, obj2 ... being created.\n"
     ]
    },
    {
     "data": {
      "text/plain": [
       "OPTIMAL::TerminationStatusCode = 1"
      ]
     },
     "execution_count": 5,
     "metadata": {},
     "output_type": "execute_result"
    }
   ],
   "source": [
    "status = optimize!(\n",
    "    m, \n",
    "    is_stochastic = true, # Needs to indicate that the model is of the stochastic program.\n",
    "    solve_type = DSPopt.ExtensiveForm, # see instances(DSPopt.Methods) for other methods\n",
    ")"
   ]
  },
  {
   "cell_type": "markdown",
   "id": "f5a7b953",
   "metadata": {},
   "source": [
    "The primal and dual objective values and solutions can be querried."
   ]
  },
  {
   "cell_type": "code",
   "execution_count": 6,
   "id": "2a2c0bfe",
   "metadata": {},
   "outputs": [
    {
     "name": "stdout",
     "output_type": "stream",
     "text": [
      "objective_value(m) = -108390.0\n",
      "dual_objective_value(m) = -108390.0\n",
      "value.(x) = 1-dimensional DenseAxisArray{Float64,1,...} with index sets:\n",
      "    Dimension 1, 1:3\n",
      "And data, a 3-element Vector{Float64}:\n",
      " 170.0\n",
      "  80.0\n",
      " 250.0\n"
     ]
    }
   ],
   "source": [
    "@show objective_value(m);\n",
    "@show dual_objective_value(m);\n",
    "@show value.(x);\n",
    "# dual() # This is available only for solve_type = DSPopt.Dual."
   ]
  },
  {
   "cell_type": "markdown",
   "id": "bb4ce85b",
   "metadata": {},
   "source": [
    "### Dual decomposition\n",
    "\n",
    "Now we solve the same model with dual decomposition to find the **Lagrangian bound** of the problem."
   ]
  },
  {
   "cell_type": "code",
   "execution_count": 7,
   "id": "442fa72d",
   "metadata": {},
   "outputs": [
    {
     "name": "stdout",
     "output_type": "stream",
     "text": [
      "\n",
      "=================================================================================\n",
      "  DSP: Parallel decomposition methods for structured programming\n",
      "  - Version 2.0.0\n",
      "  - See https://github.com/Argonne-National-Laboratory/DSP\n",
      "\n",
      "  Under the terms of Contract No. DE-AC02-06CH11357 with UChicago Argonne, LLC,\n",
      "  the U.S. Government retains certain rights in this software.\n",
      "=================================================================================\n",
      "\n",
      "DUAL DECOMPOSITION ITERATION INFORMATION:\n",
      "* master   = objective function value of the master problem.\n",
      "* primobj  = best primal objective function value.\n",
      "* dualobj  = best dual objective function value.\n",
      "* a.gap(%) = Approximate gap between master and dualobj.\n",
      "* d.gap(%) = Duality gap between primobj and dualobj.\n",
      "* times    = wall clock time in seconds.\n",
      "\n",
      "  iter         master        primobj        dualobj  a.gap(%)  d.gap(%)    time\n",
      " B   0  -9.291069e+04  -1.077010e+05  -1.154000e+05     24.21      7.15     0.0\n",
      "     1  -1.010033e+05  -1.077010e+05  -1.154000e+05     14.25      7.15     0.1\n",
      "     2  -1.096627e+05  -1.077010e+05  -1.154000e+05      5.23      7.15     0.1\n",
      " D   3  -1.068847e+05  -1.077010e+05  -1.121185e+05      4.90      4.10     0.1\n",
      " D   4  -1.068673e+05  -1.077010e+05  -1.108543e+05      3.73      2.93     0.1\n",
      "     5  -1.084016e+05  -1.077010e+05  -1.108543e+05      2.26      2.93     0.1\n",
      " D   6  -1.083850e+05  -1.077010e+05  -1.084260e+05      0.04      0.67     0.1\n",
      "     7  -1.083900e+05  -1.077010e+05  -1.084260e+05      0.03      0.67     0.1\n",
      " D   8  -1.083900e+05  -1.077010e+05  -1.083900e+05      0.00      0.64     0.1\n",
      "Tr  STOP with gap tolerance 0.00%.\n"
     ]
    },
    {
     "data": {
      "text/plain": [
       "OPTIMAL::TerminationStatusCode = 1"
      ]
     },
     "execution_count": 7,
     "metadata": {},
     "output_type": "execute_result"
    }
   ],
   "source": [
    "status = optimize!(\n",
    "    m, \n",
    "    is_stochastic = true,\n",
    "    solve_type = DSPopt.Dual,\n",
    ")"
   ]
  },
  {
   "cell_type": "markdown",
   "id": "35c90685",
   "metadata": {},
   "source": [
    "### Dantzig-Wolfe decomposition\n",
    "\n",
    "We can also solve the same model with Dantzig-Wolfe decomposition, which is the dual of the dual decomposition with a scalable branch-and-bound algorithm on top of it to find a **global optimal** solution."
   ]
  },
  {
   "cell_type": "code",
   "execution_count": 8,
   "id": "c0bfaa40",
   "metadata": {},
   "outputs": [
    {
     "name": "stdout",
     "output_type": "stream",
     "text": [
      "\n",
      "=================================================================================\n",
      "  DSP: Parallel decomposition methods for structured programming\n",
      "  - Version 2.0.0\n",
      "  - See https://github.com/Argonne-National-Laboratory/DSP\n",
      "\n",
      "  Under the terms of Contract No. DE-AC02-06CH11357 with UChicago Argonne, LLC,\n",
      "  the U.S. Government retains certain rights in this software.\n",
      "=================================================================================\n",
      "Initializing subproblems ... \n",
      "Initializing master problem ... \n",
      "Initializing ALPS framework ... \n",
      "==  Welcome to the Abstract Library for Parallel Search (ALPS) \n",
      "==  Copyright 2000-2017 Lehigh University and others \n",
      "==  All Rights Reserved. \n",
      "==  Distributed under the Eclipse Public License 1.0 \n",
      "==  Version: Trunk (unstable) \n",
      "==  Build Date: Oct 24 2021\n",
      "Alps0250I Starting search ...\n",
      "Generated 3 initial columns. Initial dual bound -1.154000000000e+05\n",
      "Iteration   0: DW Bound +1.797693e+308, Best Dual -1.154000e+05 (gap Large %), nrows 6, ncols 12, timing (total 0.01, master 0.00, gencols 0.01), statue 3000\n",
      "Iteration   1: DW Bound +1.797693e+308, Best Dual -1.154000e+05 (gap Large %), nrows 10, ncols 12, timing (total 0.05, master 0.02, gencols 0.03), statue 3000\n",
      "Iteration   2: DW Bound -1.070178e+05, Best Dual -1.154000e+05 (gap 7.26 %), nrows 15, ncols 12, timing (total 0.08, master 0.03, gencols 0.03), statue 3000\n",
      "Iteration   3: DW Bound -1.083900e+05, Best Dual -1.110772e+05 (gap 2.42 %), nrows 19, ncols 12, timing (total 0.11, master 0.06, gencols 0.04), statue 3000\n",
      "Iteration   4: DW Bound -1.083900e+05, Best Dual -1.083900e+05 (gap 0.00 %), nrows 21, ncols 12, timing (total 0.14, master 0.07, gencols 0.05), statue 3000\n",
      "Found new primal solution: -1.072400e+05\n",
      "Infeasibility (Integer): +0.000000e+00\n",
      "[0.135561] curLb -1.08390000e+05, bestUb -1.07240000e+05, bestLb -1.08390000e+05\n",
      "Alps0240I Proc: 1, Part: 0, Cand: 0, Best N: 1e+75, Best S: -108390\n",
      "\n",
      "Alps0208I Search completed.\n",
      "Alps0260I Best solution found had quality -108390\n",
      "Alps0264I Number of nodes processed:                1\n",
      "Alps0267I Number of nodes branched:                 0\n",
      "Alps0268I Number of nodes pruned before processing: 0\n",
      "Alps0270I Number of nodes left:                     0\n",
      "Alps0272I Tree depth: 0\n",
      "Alps0274I Search CPU time: 0.12 seconds\n",
      "Alps0278I Search wall-clock time: 0.14 seconds\n",
      "Time spent in heuristics: 0.00 seconds\n"
     ]
    },
    {
     "data": {
      "text/plain": [
       "OPTIMAL::TerminationStatusCode = 1"
      ]
     },
     "execution_count": 8,
     "metadata": {},
     "output_type": "execute_result"
    }
   ],
   "source": [
    "status = optimize!(\n",
    "    m, \n",
    "    is_stochastic = true,\n",
    "    solve_type = DSPopt.DW,\n",
    ")"
   ]
  },
  {
   "cell_type": "markdown",
   "id": "e709088a",
   "metadata": {},
   "source": [
    "### Distributionally robust optimization\n",
    "\n",
    "In our recent work, we have also developed the dual decomposition of the distributionally robust variant based on the Wasserstein ambiguity set.\n",
    "\n",
    "For example, we can set the Wasserstein ambiguity set of order 2 with the distance limit of 1.0. This means that the probability given for each scenario (i.e., 1/3) is used as a reference probability, at which the Wasserstein ambiguity set is considered for the statistical robustness of the solution.\n",
    "\n",
    "This can be simply done with this."
   ]
  },
  {
   "cell_type": "code",
   "execution_count": 9,
   "id": "77fdbea8",
   "metadata": {},
   "outputs": [
    {
     "name": "stdout",
     "output_type": "stream",
     "text": [
      "[DRO] Set 3 reference scenarios.\n",
      "[DRO] Computed the Wasserstein distances of order 2.000000.\n",
      "\n",
      "=================================================================================\n",
      "  DSP: Parallel decomposition methods for structured programming\n",
      "  - Version 2.0.0\n",
      "  - See https://github.com/Argonne-National-Laboratory/DSP\n",
      "\n",
      "  Under the terms of Contract No. DE-AC02-06CH11357 with UChicago Argonne, LLC,\n",
      "  the U.S. Government retains certain rights in this software.\n",
      "=================================================================================\n",
      "-- DRO cannot use IPM_Feasible option.\n",
      "-- The master problem will use IPM instead.\n",
      "CPX0000  CPLEX Error  1014: Parameter value too small.\n",
      "\n",
      "DUAL DECOMPOSITION ITERATION INFORMATION:\n",
      "* master   = objective function value of the master problem.\n",
      "* primobj  = best primal objective function value.\n",
      "* dualobj  = best dual objective function value.\n",
      "* a.gap(%) = Approximate gap between master and dualobj.\n",
      "* d.gap(%) = Duality gap between primobj and dualobj.\n",
      "* times    = wall clock time in seconds.\n",
      "\n",
      "  iter         master        primobj        dualobj  a.gap(%)  d.gap(%)    time\n",
      " B   0  -8.580078e+04  -1.040889e+05  -1.154000e+05     34.50     10.87     0.0\n",
      "     1  -9.728027e+04  -1.040889e+05  -1.154000e+05     18.63     10.87     0.0\n",
      "     2  -1.065427e+05  -1.040889e+05  -1.154000e+05      8.31     10.87     0.0\n",
      " D   3  -1.040629e+05  -1.040889e+05  -1.094162e+05      5.14      5.12     0.0\n",
      "     4  -1.050992e+05  -1.040889e+05  -1.094162e+05      4.11      5.12     0.0\n",
      " D   5  -1.040781e+05  -1.040889e+05  -1.079728e+05      3.74      3.73     0.0\n",
      "     6  -1.052165e+05  -1.040889e+05  -1.079728e+05      2.62      3.73     0.0\n",
      " D   7  -1.047732e+05  -1.040889e+05  -1.052712e+05      0.48      1.14     0.0\n",
      " D   8  -1.047732e+05  -1.040889e+05  -1.047732e+05      0.00      0.66     0.1\n",
      "Tr  STOP with gap tolerance 0.00%.\n",
      "CPX0000  CPLEX Error  3003: Not a mixed-integer problem.\n"
     ]
    },
    {
     "data": {
      "text/plain": [
       "OPTIMAL::TerminationStatusCode = 1"
      ]
     },
     "execution_count": 9,
     "metadata": {},
     "output_type": "execute_result"
    }
   ],
   "source": [
    "DSPopt.set(WassersteinSet, 2, 1.0)\n",
    "status = optimize!(\n",
    "    m, \n",
    "    is_stochastic = true,\n",
    "    solve_type = DSPopt.Dual,\n",
    ")"
   ]
  },
  {
   "cell_type": "markdown",
   "id": "54981dd2",
   "metadata": {},
   "source": [
    "With a larger distance limit, we can expect more statistically robust solution (with possibly increased objective value)."
   ]
  },
  {
   "cell_type": "code",
   "execution_count": 10,
   "id": "985faddf",
   "metadata": {},
   "outputs": [
    {
     "name": "stdout",
     "output_type": "stream",
     "text": [
      "[DRO] Set 3 reference scenarios.\n",
      "[DRO] Computed the Wasserstein distances of order 2.000000.\n",
      "\n",
      "=================================================================================\n",
      "  DSP: Parallel decomposition methods for structured programming\n",
      "  - Version 2.0.0\n",
      "  - See https://github.com/Argonne-National-Laboratory/DSP\n",
      "\n",
      "  Under the terms of Contract No. DE-AC02-06CH11357 with UChicago Argonne, LLC,\n",
      "  the U.S. Government retains certain rights in this software.\n",
      "=================================================================================\n",
      "-- DRO cannot use IPM_Feasible option.\n",
      "-- The master problem will use IPM instead.\n",
      "CPX0000  CPLEX Error  1014: Parameter value too small.\n",
      "\n",
      "DUAL DECOMPOSITION ITERATION INFORMATION:\n",
      "* master   = objective function value of the master problem.\n",
      "* primobj  = best primal objective function value.\n",
      "* dualobj  = best dual objective function value.\n",
      "* a.gap(%) = Approximate gap between master and dualobj.\n",
      "* d.gap(%) = Duality gap between primobj and dualobj.\n",
      "* times    = wall clock time in seconds.\n",
      "\n",
      "  iter         master        primobj        dualobj  a.gap(%)  d.gap(%)    time\n",
      " B   0  -7.590313e+04  -9.325260e+04  -1.154000e+05     52.04     23.75     0.0\n",
      "     1  -8.223708e+04  -9.325260e+04  -1.154000e+05     40.33     23.75     0.0\n",
      "     2  -9.149237e+04  -9.325260e+04  -1.154000e+05     26.13     23.75     0.0\n",
      "     3  -9.324368e+04  -9.325260e+04  -1.154000e+05     23.76     23.75     0.0\n",
      " D   4  -9.324368e+04  -9.325260e+04  -9.890988e+04      6.08      6.07     0.0\n",
      "     5  -9.324495e+04  -9.325260e+04  -9.890988e+04      6.08      6.07     0.0\n",
      " D   6  -9.324495e+04  -9.325260e+04  -9.821052e+04      5.33      5.32     0.0\n",
      "     7  -9.420557e+04  -9.325260e+04  -9.821052e+04      4.25      5.32     0.0\n",
      " D   8  -9.420557e+04  -9.325260e+04  -9.653708e+04      2.47      3.52     0.1\n",
      "     9  -9.434272e+04  -9.325260e+04  -9.653708e+04      2.33      3.52     0.1\n",
      " D  10  -9.434272e+04  -9.325260e+04  -9.434272e+04      0.00      1.17     0.1\n",
      "Tr  STOP with gap tolerance 0.00%.\n",
      "CPX0000  CPLEX Error  3003: Not a mixed-integer problem.\n"
     ]
    },
    {
     "data": {
      "text/plain": [
       "OPTIMAL::TerminationStatusCode = 1"
      ]
     },
     "execution_count": 10,
     "metadata": {},
     "output_type": "execute_result"
    }
   ],
   "source": [
    "DSPopt.set(WassersteinSet, 2, 2.0)\n",
    "status = optimize!(\n",
    "    m, \n",
    "    is_stochastic = true,\n",
    "    solve_type = DSPopt.Dual,\n",
    ")"
   ]
  },
  {
   "cell_type": "code",
   "execution_count": null,
   "id": "bf7c859e",
   "metadata": {},
   "outputs": [],
   "source": []
  }
 ],
 "metadata": {
  "kernelspec": {
   "display_name": "Julia 1.6.1",
   "language": "julia",
   "name": "julia-1.6"
  },
  "language_info": {
   "file_extension": ".jl",
   "mimetype": "application/julia",
   "name": "julia",
   "version": "1.6.1"
  }
 },
 "nbformat": 4,
 "nbformat_minor": 5
}
